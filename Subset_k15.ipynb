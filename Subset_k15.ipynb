{
 "cells": [
  {
   "cell_type": "markdown",
   "metadata": {},
   "source": [
    "**Cropping the k15 geotiff of size 32000 x 20000 into a smaller geotiff of size 4000 x 4000**"
   ]
  },
  {
   "cell_type": "code",
   "execution_count": 31,
   "metadata": {},
   "outputs": [
    {
     "name": "stdout",
     "output_type": "stream",
     "text": [
      "Original k15 DSM file\n",
      "No of columns:  32000\n",
      "No of rows:  20000\n",
      "No of bands:  1\n",
      "No of colums:  32000\n",
      "GeoTransform:  (130000.0, 1.0, 0.0, 218000.0, 0.0, -1.0)\n",
      "Top left x coordinate:  130000.0\n",
      "Top left y coordinate:  218000.0\n"
     ]
    }
   ],
   "source": [
    "import gdal\n",
    "\n",
    "#DSM K15 file path\n",
    "fn = 'C:/Users/Personal/Desktop/3D house Data Files/DSM/k15/GeoTIFF/DHMVIIDSMRAS1m_k15.tif'\n",
    "#DSM clipped output file path\n",
    "fn_clip = 'C:/Users/Personal/Desktop/3D house Data Files/DSM/k15/GeoTIFF/DHMVIIDSMRAS1m_k15_clip2.tif'\n",
    "\n",
    "ds = gdal.Open(fn)\n",
    "\n",
    "#Dimensions of the raster file\n",
    "cols = ds.RasterXSize\n",
    "rows = ds.RasterYSize\n",
    "bands = ds.RasterCount\n",
    "geot = ds.GetGeoTransform()\n",
    "topleft_x= geot[0]\n",
    "topleft_y= geot[3]\n",
    "print('Original k15 DSM file')\n",
    "print('No of columns: ',cols)\n",
    "print('No of rows: ',rows)\n",
    "print('No of bands: ',bands)\n",
    "print('No of colums: ',cols)\n",
    "print('GeoTransform: ', geot)\n",
    "print('Top left x coordinate: ',topleft_x)\n",
    "print('Top left y coordinate: ',topleft_y)\n",
    "\n",
    "\n",
    "# size of the new raster\n",
    "new_cols = 4000\n",
    "new_rows = 4000\n",
    "\n",
    "#Gtiff driver supports create() operation\n",
    "driver = gdal.GetDriverByName('GTiff')\n",
    "\n",
    "#Creating new raster ie fn_clip and copying all metadata of fn to fn_clip\n",
    "ds_clip = driver.Create(fn_clip, xsize=new_cols, ysize=new_rows, bands=1, eType=gdal.GDT_Float32)\n",
    "\n",
    "x_offset = 20000\n",
    "y_offset = 2000\n",
    "\n",
    "#setting new geotransform\n",
    "\n",
    "new_geot = list(geot) # we convert it into list because geot is a tuple which cant be changed.\n",
    "\n",
    "new_geot[0] = new_geot[0] + x_offset\n",
    "new_geot[3] = new_geot[3] - y_offset\n",
    "\n",
    "ds_clip.SetGeoTransform(tuple(new_geot))\n",
    "\n",
    "start_col = round(x_offset/abs(geot[1]))\n",
    "start_row = round(y_offset/abs(geot[5]))\n",
    "\n",
    "#------------have to add something here after reading about readASarray----------\n",
    "data = ds.GetRasterBand(1).ReadAsArray()\n",
    "ds_clip.GetRasterBand(1).WriteArray(data[start_row: start_row + new_rows, start_col: start_col + new_cols])\n",
    "\n",
    "#closing the clip dataset\n",
    "ds_clip = None \n"
   ]
  },
  {
   "cell_type": "markdown",
   "metadata": {},
   "source": [
    "**Coordinates (long and lat) of Beacon Building**"
   ]
  },
  {
   "cell_type": "code",
   "execution_count": 34,
   "metadata": {},
   "outputs": [
    {
     "name": "stdout",
     "output_type": "stream",
     "text": [
      "Municipality : Antwerpen\n",
      "Zipcode : 2000\n",
      "Thoroughfarename : Sint-Pietersvliet\n",
      "Housenumber : 7\n",
      "ID : 1218901\n",
      "FormattedAddress : Sint-Pietersvliet 7, 2000 Antwerpen\n",
      "Location : {'Lat_WGS84': 51.2255801461893, 'Lon_WGS84': 4.4008575939707075, 'X_Lambert72': 152242.43, 'Y_Lambert72': 212849.5}\n",
      "LocationType : crab_huisnummer_afgeleidVanGebouw\n",
      "BoundingBox : {'LowerLeft': {'Lat_WGS84': 51.2255801461893, 'Lon_WGS84': 4.4008575939707075, 'X_Lambert72': 152242.43, 'Y_Lambert72': 212849.5}, 'UpperRight': {'Lat_WGS84': 51.2255801461893, 'Lon_WGS84': 4.4008575939707075, 'X_Lambert72': 152242.43, 'Y_Lambert72': 212849.5}}\n"
     ]
    }
   ],
   "source": [
    "import requests\n",
    "import json\n",
    "address = \"Sint-Pietersvliet 7\"\n",
    "req = requests.get(f\"http://loc.geopunt.be/geolocation/location?q={address}&c=1\",)\n",
    "for k,v in req.json()[\"LocationResult\"][0].items():\n",
    "    print(f\"{k} : {v}\")"
   ]
  },
  {
   "cell_type": "code",
   "execution_count": null,
   "metadata": {},
   "outputs": [],
   "source": [
    "# {\"LocationResult\":\n",
    "#  [{\"Municipality\":\"Antwerpen\",\"Zipcode\":\"2000\",\n",
    "#    \"Thoroughfarename\":\"Sint-Pietersvliet\",\n",
    "#    \"Housenumber\":null,\n",
    "#    \"ID\":2655,\n",
    "#    \"FormattedAddress\":\"Sint-Pietersvliet, Antwerpen\",\n",
    "#    \"Location\":{\"Lat_WGS84\":51.22594145414741,\"Lon_WGS84\":4.4002929850057413,\"X_Lambert72\":152202.97,\"Y_Lambert72\":212889.68},\n",
    "#    \"LocationType\":\"crab_straat\",\n",
    "#    \"BoundingBox\":{\"LowerLeft\":{\"Lat_WGS84\":51.225185648196486,\"Lon_WGS84\":4.4001969840981552,\"X_Lambert72\":152196.3,\n",
    "#     \"Y_Lambert72\":212805.59},\"UpperRight\":{\"Lat_WGS84\":51.226392774261988,\"Lon_WGS84\":4.4015361225171183,\n",
    "#     \"X_Lambert72\":152289.79,\"Y_Lambert72\":212939.93}}}]}"
   ]
  }
 ],
 "metadata": {
  "kernelspec": {
   "display_name": "Python 3",
   "language": "python",
   "name": "python3"
  },
  "language_info": {
   "codemirror_mode": {
    "name": "ipython",
    "version": 3
   },
   "file_extension": ".py",
   "mimetype": "text/x-python",
   "name": "python",
   "nbconvert_exporter": "python",
   "pygments_lexer": "ipython3",
   "version": "3.7.6"
  }
 },
 "nbformat": 4,
 "nbformat_minor": 4
}
